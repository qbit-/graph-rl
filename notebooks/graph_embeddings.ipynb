{
 "cells": [
  {
   "cell_type": "code",
   "execution_count": 13,
   "metadata": {},
   "outputs": [],
   "source": [
    "import torch\n",
    "import networkx as nx\n",
    "from node2vec import Node2Vec\n",
    "\n",
    "\n",
    "import matplotlib.pyplot as plt\n",
    "%matplotlib inline"
   ]
  },
  {
   "cell_type": "code",
   "execution_count": 47,
   "metadata": {},
   "outputs": [],
   "source": [
    "graph = nx.fast_gnp_random_graph(n=40, p=0.5)\n",
    "graph = nx.lollipop_graph(m=25, n=15)"
   ]
  },
  {
   "cell_type": "code",
   "execution_count": 48,
   "metadata": {},
   "outputs": [],
   "source": [
    "# nx.draw_networkx_labels(graph, pos=nx.spring_layout(graph))"
   ]
  },
  {
   "cell_type": "code",
   "execution_count": 49,
   "metadata": {},
   "outputs": [
    {
     "data": {
      "image/png": "[encoded data removed]",
      "text/plain": [
       "<Figure size 432x288 with 1 Axes>"
      ]
     },
     "metadata": {},
     "output_type": "display_data"
    }
   ],
   "source": [
    "nx.draw(graph)\n",
    "plt.show()"
   ]
  },
  {
   "cell_type": "code",
   "execution_count": 50,
   "metadata": {},
   "outputs": [
    {
     "data": {
      "text/plain": [
       "matrix([[0, 1, 1, ..., 0, 0, 0],\n",
       "        [1, 0, 1, ..., 0, 0, 0],\n",
       "        [1, 1, 0, ..., 0, 0, 0],\n",
       "        ...,\n",
       "        [0, 0, 0, ..., 0, 1, 0],\n",
       "        [0, 0, 0, ..., 1, 0, 1],\n",
       "        [0, 0, 0, ..., 0, 1, 0]], dtype=int64)"
      ]
     },
     "execution_count": 50,
     "metadata": {},
     "output_type": "execute_result"
    }
   ],
   "source": [
    "nx.adjacency_matrix(graph).todense()"
   ]
  },
  {
   "cell_type": "markdown",
   "metadata": {},
   "source": [
    "## Node2Vec"
   ]
  },
  {
   "cell_type": "code",
   "execution_count": 105,
   "metadata": {},
   "outputs": [
    {
     "name": "stderr",
     "output_type": "stream",
     "text": [
      "Computing transition probabilities: 100%|██████████| 40/40 [00:00<00:00, 357.83it/s]\n"
     ]
    },
    {
     "data": {
      "text/plain": [
       "array([0.66939795, 0.6640393 , 0.5531998 , 0.6640393 ], dtype=float32)"
      ]
     },
     "execution_count": 105,
     "metadata": {},
     "output_type": "execute_result"
    }
   ],
   "source": [
    "node2vec = Node2Vec(graph, dimensions=10, walk_length=8, num_walks=10, workers=4)\n",
    "model = node2vec.fit(window=10, min_count=1, batch_words=4)\n",
    "\n",
    "model.wv.cosine_similarities(model.wv.get_vector('39'), \\\n",
    "[model.wv.get_vector('36'),model.wv.get_vector('1'), model.wv.get_vector('12'), model.wv.get_vector('1')])\n"
   ]
  },
  {
   "cell_type": "markdown",
   "metadata": {},
   "source": [
    "## GraRep"
   ]
  },
  {
   "cell_type": "code",
   "execution_count": 98,
   "metadata": {},
   "outputs": [],
   "source": [
    "from scipy.sparse import lil_matrix\n",
    "from scipy.sparse import csr_matrix\n",
    "from scipy.linalg import norm\n",
    "\n",
    "from scipy.sparse.linalg import svds \n",
    "import numpy as np\n",
    "def get_representations(A,K,beta):\n",
    "    #Extract list of similarity matrices to be factorized\n",
    "\n",
    "    print('Computing representations')\n",
    "    A_temp = []\n",
    "    X_rep = []\n",
    "\n",
    "    A_o = csr_matrix(A)\n",
    "    A_prev = csr_matrix(A)\n",
    "    A_temp.append(A_o.todense())\n",
    "    for k in range(K-1):\n",
    "        A_last = csr_matrix(A_prev.dot(A_o))\n",
    "        A_temp.append(A_last.todense())\n",
    "        A_prev = A_last\n",
    "\n",
    "    k =1\n",
    "    for A_k in A_temp:\n",
    "        k+=1\n",
    "        A_k = np.array(A_k)\n",
    "        g = A_k.sum(axis=0)\n",
    "        g = np.array(np.power(g*beta/float(len(g)),-1))\n",
    "        B = np.log(A_k.dot(np.diag(np.reshape(g, [len(g)] ))).clip(min=1.0))\n",
    "        X_rep.append( B )\n",
    "\n",
    "    return X_rep\n",
    "\n",
    "def get_embeddings(X_rep,N,dimension,K):\n",
    "    #Factorize (SVD) and concatenate similarity matrices\n",
    "\n",
    "    print('Extracting embeddings..')\n",
    "    E = np.ndarray( (N,dimension) )\n",
    " \n",
    "    width = dimension // K\n",
    "\n",
    "    mod = dimension -  width*K \n",
    "    U,S,V = svds(X_rep[0], width + mod )\n",
    "    E[:,:width+mod] = U @ np.power(np.diag(S), 0.5)\n",
    "\n",
    "    for k in range(K-1):\n",
    "        U,S,V = svds(X_rep[k+1], width + mod )   \n",
    "        E[:, width*(k+1)+mod : width*(k+2)+mod] = U @ np.power(np.diag(S), 0.5)\n",
    "    return E    \n"
   ]
  },
  {
   "cell_type": "code",
   "execution_count": 102,
   "metadata": {},
   "outputs": [
    {
     "name": "stdout",
     "output_type": "stream",
     "text": [
      "Computing representations\n",
      "Extracting embeddings..\n"
     ]
    }
   ],
   "source": [
    "A = nx.adj_matrix(graph)\n",
    "K = 10 # Number of transition steps\n",
    "beta = 1.0\n",
    "dimension = 10\n",
    "X_rep = get_representations(A, K, beta )\n",
    "    \n",
    "E = get_embeddings(X_rep, A.get_shape()[0], dimension, K)\n",
    " "
   ]
  },
  {
   "cell_type": "code",
   "execution_count": 103,
   "metadata": {},
   "outputs": [
    {
     "data": {
      "text/plain": [
       "(2.2324129206130894, 0.007067156578671926)"
      ]
     },
     "execution_count": 103,
     "metadata": {},
     "output_type": "execute_result"
    }
   ],
   "source": [
    "norm(E[0] - E[39]), norm(E[36] - E[39])"
   ]
  },
  {
   "cell_type": "code",
   "execution_count": 104,
   "metadata": {},
   "outputs": [
    {
     "data": {
      "text/plain": [
       "(array([ 7.66895525e-08,  1.76256349e-04, -1.45578751e-03,  2.06311649e-03,\n",
       "        -7.37060092e-04, -3.68138445e-04,  4.55236583e-03,  4.75314515e-03,\n",
       "        -7.55284107e-04,  7.73997429e-17]),\n",
       " array([ 1.72036273e-10,  9.99326607e-06, -2.02746885e-04,  1.18563352e-04,\n",
       "        -2.67619381e-16,  1.21198756e-16, -2.15575656e-16,  3.67916122e-16,\n",
       "        -9.63666380e-17,  1.16405415e-16]))"
      ]
     },
     "execution_count": 104,
     "metadata": {},
     "output_type": "execute_result"
    }
   ],
   "source": [
    "E[36], E[39]"
   ]
  },
  {
   "cell_type": "markdown",
   "metadata": {},
   "source": [
    "## Graph Convolution"
   ]
  },
  {
   "cell_type": "code",
   "execution_count": 115,
   "metadata": {},
   "outputs": [],
   "source": [
    "import networkx as nx\n",
    "import scipy.sparse as sp\n",
    "\n",
    "def preprocess_features(features, sparse=False):\n",
    "    \"\"\"Row-normalize feature matrix and convert to tuple representation\"\"\"\n",
    "    rowsum = np.array(features.sum(1))\n",
    "    r_inv = np.power(rowsum, -1).flatten()\n",
    "    r_inv[np.isinf(r_inv)] = 0.\n",
    "    r_mat_inv = sp.diags(r_inv)\n",
    "    features = r_mat_inv.dot(features)\n",
    "    # features = features/features.shape[1]\n",
    "    if sparse:\n",
    "        return sparse_to_tuple(features)\n",
    "    return features\n",
    "\n",
    "\n",
    "def normalize_adj(adj):\n",
    "    \"\"\"Symmetrically normalize adjacency matrix.\"\"\"\n",
    "    adj = sp.coo_matrix(adj)\n",
    "    rowsum = np.array(adj.sum(1))\n",
    "    d_inv_sqrt = np.power(rowsum, -0.5).flatten()\n",
    "    d_inv_sqrt[np.isinf(d_inv_sqrt)] = 0.\n",
    "    d_mat_inv_sqrt = sp.diags(d_inv_sqrt)\n",
    "    return adj.dot(d_mat_inv_sqrt).transpose().dot(d_mat_inv_sqrt).tocoo()\n",
    "\n",
    "\n",
    "def preprocess_adj(adj, sparse=False):\n",
    "    \"\"\"\n",
    "    Preprocessing of adjacency matrix for \n",
    "    simple GCN model and conversion to tuple representation.\n",
    "    \"\"\"\n",
    "    # adj_normalized = normalize_adj(adj)\n",
    "    adj_normalized = normalize_adj(adj + sp.eye(adj.shape[0]))\n",
    "    # adj_normalized = sp.coo_matrix(adj)\n",
    "    if sparse:\n",
    "        return sparse_to_tuple(adj_normalized)\n",
    "    return adj_normalized\n",
    "\n",
    "def sparse_to_tuple(sparse_mx):\n",
    "    \"\"\"Convert sparse matrix to tuple representation.\"\"\"\n",
    "    def to_tuple(mx):\n",
    "        if not sp.isspmatrix_coo(mx):\n",
    "            mx = mx.tocoo()\n",
    "        coords = np.vstack((mx.row, mx.col)).transpose()\n",
    "        values = mx.data\n",
    "        shape = mx.shape\n",
    "        return coords, values, shape\n",
    "\n",
    "    if isinstance(sparse_mx, list):\n",
    "        for i in range(len(sparse_mx)):\n",
    "            sparse_mx[i] = to_tuple(sparse_mx[i])\n",
    "    else:\n",
    "        sparse_mx = to_tuple(sparse_mx)\n",
    "\n",
    "    return sparse_mx"
   ]
  },
  {
   "cell_type": "code",
   "execution_count": 221,
   "metadata": {},
   "outputs": [],
   "source": [
    "import math\n",
    "\n",
    "import torch\n",
    "import torch.nn as nn\n",
    "import torch.nn.functional as F\n",
    "\n",
    "from torch.nn.parameter import Parameter\n",
    "from torch.nn.modules.module import Module\n",
    "\n",
    "\n",
    "class GraphConvolution(Module):\n",
    "    def __init__(self, in_features, out_features, bias=False):\n",
    "        super(GraphConvolution, self).__init__()\n",
    "        self.in_features = in_features\n",
    "        self.out_features = out_features\n",
    "        self.weight = Parameter(torch.FloatTensor(in_features, out_features))\n",
    "        if bias:\n",
    "            self.bias = Parameter(torch.FloatTensor(out_features))\n",
    "        else:\n",
    "            self.register_parameter('bias', None)\n",
    "        self.reset_parameters()\n",
    "\n",
    "    def reset_parameters(self):\n",
    "        stdv = 1. / math.sqrt(self.weight.size(1) + self.weight.size(0))\n",
    "        self.weight.data.uniform_(-stdv, stdv)\n",
    "        if self.bias is not None:\n",
    "            self.bias.data.uniform_(-stdv, stdv)\n",
    "\n",
    "    def forward(self, input, adj):\n",
    "        support = torch.mm(input, self.weight)\n",
    "        output = torch.spmm(adj, support)\n",
    "        if self.bias is not None:\n",
    "            return output + self.bias\n",
    "        else:\n",
    "            return output\n",
    "\n",
    "    def __repr__(self):\n",
    "        return self.__class__.__name__ + ' (' \\\n",
    "               + str(self.in_features) + ' -> ' \\\n",
    "               + str(self.out_features) + ')'\n",
    "\n",
    "\n",
    "class GCN(nn.Module):\n",
    "    def __init__(self, nfeat, nhid, nclass, dropout):\n",
    "        super(GCN, self).__init__()\n",
    "\n",
    "        self.gc1 = GraphConvolution(nfeat, nhid, bias=False)\n",
    "        self.gc2 = GraphConvolution(nhid, nclass, bias=False)\n",
    "        self.dropout = dropout\n",
    "        \n",
    "    def forward(self, x, adj):\n",
    "        x = F.relu(self.gc1(x, adj))\n",
    "        x = F.dropout(x, p=0.1)\n",
    "        x = self.gc2(x, adj)\n",
    "        return x"
   ]
  },
  {
   "cell_type": "code",
   "execution_count": 222,
   "metadata": {},
   "outputs": [],
   "source": [
    "_model = GCN(nfeat=40, nhid=15, nclass=5, dropout=True) \n",
    "\n",
    "A = nx.adjacency_matrix(graph).todense()\n",
    "I = np.eye(graph.number_of_nodes())\n",
    "\n",
    "output_torch = _model(torch.tensor(preprocess_features(I), dtype=torch.float), \n",
    "                      torch.tensor(preprocess_adj(A).todense(), dtype=torch.float))"
   ]
  },
  {
   "cell_type": "markdown",
   "metadata": {},
   "source": [
    "Output feature for random weights:"
   ]
  },
  {
   "cell_type": "code",
   "execution_count": 223,
   "metadata": {},
   "outputs": [
    {
     "data": {
      "text/plain": [
       "tensor([[-0.0087,  0.0063,  0.0036,  0.0009, -0.0007],\n",
       "        [-0.0087,  0.0063,  0.0036,  0.0009, -0.0007],\n",
       "        [-0.0087,  0.0063,  0.0036,  0.0009, -0.0007],\n",
       "        [-0.0087,  0.0063,  0.0036,  0.0009, -0.0007],\n",
       "        [-0.0087,  0.0063,  0.0036,  0.0009, -0.0007],\n",
       "        [-0.0087,  0.0063,  0.0036,  0.0009, -0.0007],\n",
       "        [-0.0087,  0.0063,  0.0036,  0.0009, -0.0007],\n",
       "        [-0.0087,  0.0063,  0.0036,  0.0009, -0.0007],\n",
       "        [-0.0087,  0.0063,  0.0036,  0.0009, -0.0007],\n",
       "        [-0.0087,  0.0063,  0.0036,  0.0009, -0.0007],\n",
       "        [-0.0087,  0.0063,  0.0036,  0.0009, -0.0007],\n",
       "        [-0.0087,  0.0063,  0.0036,  0.0009, -0.0007],\n",
       "        [-0.0087,  0.0063,  0.0036,  0.0009, -0.0007],\n",
       "        [-0.0087,  0.0063,  0.0036,  0.0009, -0.0007],\n",
       "        [-0.0087,  0.0063,  0.0036,  0.0009, -0.0007],\n",
       "        [-0.0087,  0.0063,  0.0036,  0.0009, -0.0007],\n",
       "        [-0.0087,  0.0063,  0.0036,  0.0009, -0.0007],\n",
       "        [-0.0087,  0.0063,  0.0036,  0.0009, -0.0007],\n",
       "        [-0.0087,  0.0063,  0.0036,  0.0009, -0.0007],\n",
       "        [-0.0087,  0.0063,  0.0036,  0.0009, -0.0007],\n",
       "        [-0.0087,  0.0063,  0.0036,  0.0009, -0.0007],\n",
       "        [-0.0087,  0.0063,  0.0036,  0.0009, -0.0007],\n",
       "        [-0.0087,  0.0063,  0.0036,  0.0009, -0.0007],\n",
       "        [-0.0087,  0.0063,  0.0036,  0.0009, -0.0007],\n",
       "        [-0.0130,  0.0081,  0.0027, -0.0007, -0.0007],\n",
       "        [-0.0335,  0.0180, -0.0025, -0.0076,  0.0015],\n",
       "        [-0.0478,  0.0280, -0.0031, -0.0104,  0.0008],\n",
       "        [-0.0406,  0.0272,  0.0027, -0.0018,  0.0045],\n",
       "        [-0.0287,  0.0209,  0.0045,  0.0009,  0.0010],\n",
       "        [-0.0167,  0.0110,  0.0050, -0.0042, -0.0108],\n",
       "        [-0.0150,  0.0072,  0.0017, -0.0149, -0.0264],\n",
       "        [-0.0111,  0.0044,  0.0003, -0.0147, -0.0309],\n",
       "        [-0.0093,  0.0016,  0.0042, -0.0041, -0.0189],\n",
       "        [-0.0057,  0.0010,  0.0035,  0.0024, -0.0076],\n",
       "        [-0.0078,  0.0032,  0.0048,  0.0025,  0.0022],\n",
       "        [-0.0161,  0.0043,  0.0012, -0.0015,  0.0030],\n",
       "        [-0.0195, -0.0005,  0.0063, -0.0041,  0.0077],\n",
       "        [-0.0107, -0.0107,  0.0091, -0.0010,  0.0008],\n",
       "        [ 0.0022, -0.0136,  0.0082,  0.0033, -0.0043],\n",
       "        [ 0.0078, -0.0114,  0.0044,  0.0074, -0.0100]])"
      ]
     },
     "execution_count": 223,
     "metadata": {},
     "output_type": "execute_result"
    }
   ],
   "source": [
    "output_torch.detach()"
   ]
  },
  {
   "cell_type": "code",
   "execution_count": 216,
   "metadata": {},
   "outputs": [
    {
     "data": {
      "text/plain": [
       "tensor([[-0.0058,  0.0079,  0.0066, -0.0107],\n",
       "        [-0.0058,  0.0079,  0.0066, -0.0107],\n",
       "        [-0.0058,  0.0079,  0.0066, -0.0107],\n",
       "        [-0.0058,  0.0079,  0.0066, -0.0107],\n",
       "        [-0.0058,  0.0079,  0.0066, -0.0107],\n",
       "        [-0.0058,  0.0079,  0.0066, -0.0107],\n",
       "        [-0.0058,  0.0079,  0.0066, -0.0107],\n",
       "        [-0.0058,  0.0079,  0.0066, -0.0107],\n",
       "        [-0.0058,  0.0079,  0.0066, -0.0107],\n",
       "        [-0.0058,  0.0079,  0.0066, -0.0107],\n",
       "        [-0.0058,  0.0079,  0.0066, -0.0107],\n",
       "        [-0.0058,  0.0079,  0.0066, -0.0107],\n",
       "        [-0.0058,  0.0079,  0.0066, -0.0107],\n",
       "        [-0.0058,  0.0079,  0.0066, -0.0107],\n",
       "        [-0.0058,  0.0079,  0.0066, -0.0107],\n",
       "        [-0.0058,  0.0079,  0.0066, -0.0107],\n",
       "        [-0.0058,  0.0079,  0.0066, -0.0107],\n",
       "        [-0.0058,  0.0079,  0.0066, -0.0107],\n",
       "        [-0.0058,  0.0079,  0.0066, -0.0107],\n",
       "        [-0.0058,  0.0079,  0.0066, -0.0107],\n",
       "        [-0.0058,  0.0079,  0.0066, -0.0107],\n",
       "        [-0.0058,  0.0079,  0.0066, -0.0107],\n",
       "        [-0.0058,  0.0079,  0.0066, -0.0107],\n",
       "        [-0.0058,  0.0079,  0.0066, -0.0107],\n",
       "        [-0.0048,  0.0063,  0.0092, -0.0089],\n",
       "        [ 0.0087, -0.0122,  0.0175,  0.0128],\n",
       "        [ 0.0178, -0.0185,  0.0232,  0.0177],\n",
       "        [ 0.0206, -0.0145,  0.0167,  0.0113],\n",
       "        [ 0.0156,  0.0021,  0.0050, -0.0078],\n",
       "        [ 0.0060,  0.0072, -0.0016, -0.0128],\n",
       "        [-0.0066,  0.0080, -0.0038, -0.0132],\n",
       "        [-0.0152, -0.0058,  0.0026,  0.0055],\n",
       "        [-0.0253, -0.0042,  0.0001,  0.0048],\n",
       "        [-0.0271, -0.0069, -0.0011,  0.0008],\n",
       "        [-0.0259, -0.0058, -0.0039, -0.0141],\n",
       "        [-0.0137, -0.0183,  0.0039, -0.0101],\n",
       "        [ 0.0029, -0.0244,  0.0112,  0.0018],\n",
       "        [ 0.0047, -0.0208,  0.0084,  0.0026],\n",
       "        [-0.0069, -0.0047, -0.0034, -0.0107],\n",
       "        [-0.0177,  0.0043, -0.0107, -0.0206]])"
      ]
     },
     "execution_count": 216,
     "metadata": {},
     "output_type": "execute_result"
    }
   ],
   "source": [
    "gc_test1 = GraphConvolution(40, 15)\n",
    "gc_test2 = GraphConvolution(15, 4)\n",
    "\n",
    "_out_tt = gc_test1(torch.tensor(I,dtype=torch.float),\\\n",
    "        torch.tensor(preprocess_adj(A).todense(), dtype=torch.float))\n",
    "_out_tt = gc_test2(_out_tt, torch.tensor(preprocess_adj(A).todense(), dtype=torch.float)).detach()\n",
    "\n",
    "_out_tt"
   ]
  },
  {
   "cell_type": "code",
   "execution_count": null,
   "metadata": {},
   "outputs": [],
   "source": []
  }
 ],
 "metadata": {
  "kernelspec": {
   "display_name": "Python 3",
   "language": "python",
   "name": "python3"
  },
  "language_info": {
   "codemirror_mode": {
    "name": "ipython",
    "version": 3
   },
   "file_extension": ".py",
   "mimetype": "text/x-python",
   "name": "python",
   "nbconvert_exporter": "python",
   "pygments_lexer": "ipython3",
   "version": "3.6.8"
  }
 },
 "nbformat": 4,
 "nbformat_minor": 2
}
